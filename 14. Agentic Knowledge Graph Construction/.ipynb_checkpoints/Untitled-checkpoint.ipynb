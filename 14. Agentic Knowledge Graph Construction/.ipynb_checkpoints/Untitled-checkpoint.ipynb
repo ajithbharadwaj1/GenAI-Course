{
 "cells": [
  {
   "cell_type": "code",
   "execution_count": 2,
   "id": "cf975085",
   "metadata": {
    "height": 30
   },
   "outputs": [
    {
     "name": "stdout",
     "output_type": "stream",
     "text": [
      "/bin/sh: 1: zip: not found\r\n"
     ]
    }
   ],
   "source": [
    "!zip -r all_files.zip *"
   ]
  },
  {
   "cell_type": "code",
   "execution_count": 3,
   "id": "20205ad2",
   "metadata": {
    "height": 30
   },
   "outputs": [
    {
     "name": "stdout",
     "output_type": "stream",
     "text": [
      "['L3', 'Untitled.ipynb', '.ipynb_checkpoints', '.env', 'Appendix – Tips, Help, and Download', 'L10', 'L4', 'L5', 'L6', 'L7', 'L8', 'L9', 'data', 'helper.py', 'requirements.txt']\n"
     ]
    }
   ],
   "source": [
    "import os\n",
    "\n",
    "print(os.listdir(\".\"))\n"
   ]
  }
 ],
 "metadata": {
  "kernelspec": {
   "display_name": "Python 3 (ipykernel)",
   "language": "python",
   "name": "python3"
  },
  "language_info": {
   "codemirror_mode": {
    "name": "ipython",
    "version": 3
   },
   "file_extension": ".py",
   "mimetype": "text/x-python",
   "name": "python",
   "nbconvert_exporter": "python",
   "pygments_lexer": "ipython3",
   "version": "3.11.3"
  }
 },
 "nbformat": 4,
 "nbformat_minor": 5
}
